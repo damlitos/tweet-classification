{
 "cells": [
  {
   "cell_type": "markdown",
   "id": "f2da46c1",
   "metadata": {},
   "source": [
    "# Collect tweets from Twitter using snscrape and save onto a SQL DB "
   ]
  },
  {
   "cell_type": "markdown",
   "id": "1ae85fbc",
   "metadata": {},
   "source": [
    "use pyodbc to connect to SQL DB and snscrape to collect tweets"
   ]
  },
  {
   "cell_type": "code",
   "execution_count": null,
   "id": "eb2d7aa7",
   "metadata": {},
   "outputs": [],
   "source": [
    "import pyodbc \n",
    "import snscrape.modules.twitter as sntwitter "
   ]
  },
  {
   "cell_type": "code",
   "execution_count": null,
   "id": "bacc61b8",
   "metadata": {},
   "outputs": [],
   "source": [
    "# a function to pull tweets from Twitter using snscrape tool\n",
    "def pull_tweets(my_query, table_name ):\n",
    "    \n",
    "    ''' Pull tweets using snscraper tool\n",
    "        Input is Twitter search query and a table name to insert onto a SQL DB\n",
    "    '''\n",
    "\n",
    "    \n",
    "    for i, tweet in enumerate(\n",
    "            sntwitter.TwitterSearchScraper(f'{my_query}').get_items()):\n",
    "        \n",
    "        # call insert function to save data to SQL table\n",
    "        insert_tweets(tweet, table_name)"
   ]
  },
  {
   "cell_type": "markdown",
   "id": "97e7f6a5",
   "metadata": {},
   "source": [
    "Let's write a function to get a tweet's attributes and save each tweet onto a DB"
   ]
  },
  {
   "cell_type": "code",
   "execution_count": null,
   "id": "83db7b37",
   "metadata": {},
   "outputs": [],
   "source": [
    "# save tweets onto a DB table\n",
    "def insert_tweets(tweet, table_name):\n",
    "    '''\n",
    "    Params:\n",
    "    tweet: the tweet that is collected and to be inserted\n",
    "    tale_name: table of DB to insert the given tweet\n",
    "    '''\n",
    "\n",
    "    t_text = tweet.content\n",
    "    t_id = tweet.id\n",
    "    t_date = tweet.date\n",
    "    t_username = tweet.username\n",
    "    t_userid = ''\n",
    "    t_retweet_count = 0\n",
    "    t_fav_count = 0\n",
    "    t_lang = ''\n",
    "    t_geo = ''\n",
    "    t_truncated = False\n",
    "    t_retweeted = False\n",
    "    t_mentions = ''\n",
    "\n",
    "\n",
    "    cursor.execute(\"\"\"\n",
    "                        INSERT INTO \"\"\" + table_name + \"\"\"\n",
    "                       (id, cdate, context, User_name, User_id, Retweet_count, Fav, Hashtag_count, Mention, Geo_enabled )\n",
    "                       VALUES (?, ?, ?, ?, ?, ?, ?, ?, ?, ?)\n",
    "                            \"\"\",\n",
    "                   (t_id, t_date, t_text, t_username, t_userid,\n",
    "                    t_retweet_count, t_fav_count, 0, t_mentions, t_geo))\n",
    "\n",
    "    print('inserted')"
   ]
  },
  {
   "cell_type": "raw",
   "id": "917967b1",
   "metadata": {},
   "source": [
    "Main function to set up pyodbc server connection, Twitter search query and call the functions above"
   ]
  },
  {
   "cell_type": "code",
   "execution_count": null,
   "id": "2cffb71e",
   "metadata": {},
   "outputs": [],
   "source": [
    "# main function to run the functions above\n",
    "if __name__ == \"__main__\":\n",
    "    \n",
    "    server_name = ''#your DB server name\n",
    "    table_name = '' #your table name\n",
    "    #SQL table has the following field names:\n",
    "    #id, cdate, context, User_name, User_id, Retweet_count, Fav,\n",
    "    # Hashtag_count, Mention, Geo_enabled )\n",
    "                       \n",
    "    \n",
    "    conn = pyodbc.connect(\n",
    "        'DRIVER={};Server={};Database={};trusted_connection=yes; MultipleActiveResultSets=True;as_dict=True;'.format(\n",
    "        '{ODBC Driver 17 for SQL Server}', server_name, table_name))\n",
    "\n",
    "    conn.autocommit = True#to save to db automatically without commit\n",
    "    \n",
    "    cursor = conn.cursor()\n",
    "\n",
    "    # Twitter query to search \n",
    "    my_query = '@redditstatus or #reddit' \n",
    "    \n",
    "    # pull tweets from Twitter giving the date window\n",
    "    pull_tweets(my_query, table_name)"
   ]
  }
 ],
 "metadata": {
  "kernelspec": {
   "display_name": "Python 3",
   "language": "python",
   "name": "python3"
  },
  "language_info": {
   "codemirror_mode": {
    "name": "ipython",
    "version": 3
   },
   "file_extension": ".py",
   "mimetype": "text/x-python",
   "name": "python",
   "nbconvert_exporter": "python",
   "pygments_lexer": "ipython3",
   "version": "3.7.6"
  }
 },
 "nbformat": 4,
 "nbformat_minor": 5
}
